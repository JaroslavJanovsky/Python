{
 "cells": [
  {
   "cell_type": "code",
   "execution_count": 1,
   "metadata": {},
   "outputs": [
    {
     "name": "stdout",
     "output_type": "stream",
     "text": [
      "Třeba tohle.\n",
      "A pak tohle.\n",
      "Změna v kódu\n",
      "Nikde nevidím změny.\n"
     ]
    }
   ],
   "source": [
    "print('Třeba tohle.')\n",
    "\n",
    "print('A pak tohle.')\n",
    "\n",
    "print('Změna v kódu')\n",
    "\n",
    "\n",
    "print('Nikde nevidím změny.')"
   ]
  }
 ],
 "metadata": {
  "kernelspec": {
   "display_name": "Python 3",
   "language": "python",
   "name": "python3"
  },
  "language_info": {
   "codemirror_mode": {
    "name": "ipython",
    "version": 3
   },
   "file_extension": ".py",
   "mimetype": "text/x-python",
   "name": "python",
   "nbconvert_exporter": "python",
   "pygments_lexer": "ipython3",
   "version": "3.13.1"
  }
 },
 "nbformat": 4,
 "nbformat_minor": 2
}
