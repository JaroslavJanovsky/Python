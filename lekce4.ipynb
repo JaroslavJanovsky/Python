{
 "cells": [
  {
   "cell_type": "code",
   "execution_count": 21,
   "metadata": {},
   "outputs": [
    {
     "name": "stdout",
     "output_type": "stream",
     "text": [
      "befelemepe\n"
     ]
    }
   ],
   "source": [
    "print('befelemepeseveze'[0:10])"
   ]
  },
  {
   "cell_type": "code",
   "execution_count": 23,
   "metadata": {},
   "outputs": [
    {
     "data": {
      "text/plain": [
       "16"
      ]
     },
     "execution_count": 23,
     "metadata": {},
     "output_type": "execute_result"
    }
   ],
   "source": [
    "len('befelemepeseveze')"
   ]
  },
  {
   "cell_type": "code",
   "execution_count": 7,
   "metadata": {},
   "outputs": [
    {
     "name": "stdout",
     "output_type": "stream",
     "text": [
      "[94, 3, 10]\n",
      "index\n",
      "ování\n",
      "ieví\n"
     ]
    }
   ],
   "source": [
    "print([10,2,3,86,94][::-2])\n",
    "print('indexování'[:5])\n",
    "print('indexování'[5:])\n",
    "print('indexování'[::3])"
   ]
  },
  {
   "cell_type": "code",
   "execution_count": 32,
   "metadata": {},
   "outputs": [
    {
     "name": "stdout",
     "output_type": "stream",
     "text": [
      "<class 'list'>\n"
     ]
    },
    {
     "data": {
      "text/plain": [
       "3"
      ]
     },
     "execution_count": 32,
     "metadata": {},
     "output_type": "execute_result"
    }
   ],
   "source": [
    "print(type(['Dark Magician', 'Blue-Eyes White Dragon', 'Red-Eyes Black Dragon']))\n",
    "l=(1,2,3,56,76)\n",
    "l[2]"
   ]
  },
  {
   "cell_type": "code",
   "execution_count": null,
   "metadata": {},
   "outputs": [
    {
     "data": {
      "text/plain": [
       "True"
      ]
     },
     "execution_count": 52,
     "metadata": {},
     "output_type": "execute_result"
    }
   ],
   "source": [
    "0.3==round(0.1*3, 2)"
   ]
  },
  {
   "cell_type": "code",
   "execution_count": 21,
   "metadata": {},
   "outputs": [
    {
     "name": "stdout",
     "output_type": "stream",
     "text": [
      "První číslo je menší než druhé číslo.\n"
     ]
    }
   ],
   "source": [
    "cislo_1=float(input('Zadejte první číslo.'))\n",
    "cislo_2=float(input('Zadejte druhé číslo.'))\n",
    "if cislo_1>cislo_2:\n",
    "    print('První číslo je větší než druhé.')\n",
    "elif cislo_1<cislo_2:\n",
    "    print('První číslo je menší než druhé číslo.')\n",
    "else:\n",
    "    print('Obě čísla jsou stejná.')"
   ]
  },
  {
   "cell_type": "code",
   "execution_count": 20,
   "metadata": {},
   "outputs": [
    {
     "name": "stdout",
     "output_type": "stream",
     "text": [
      "FizzBuzz\n"
     ]
    }
   ],
   "source": [
    "cislo=int(input('Zadej číslo:'))\n",
    "\n",
    "if cislo%3==0 and cislo%5==0:\n",
    "    print('FizzBuzz')\n",
    "elif cislo%3==0:\n",
    "    print('Fizz')\n",
    "elif cislo%5==0:\n",
    "    print('Buzz')\n",
    "else:\n",
    "    print(cislo)\n"
   ]
  },
  {
   "cell_type": "markdown",
   "metadata": {},
   "source": [
    "                                                    3.LEKCE"
   ]
  },
  {
   "cell_type": "code",
   "execution_count": null,
   "metadata": {},
   "outputs": [],
   "source": [
    "udaje=('Matouš', \"Holinka\")"
   ]
  },
  {
   "cell_type": "code",
   "execution_count": 39,
   "metadata": {},
   "outputs": [
    {
     "data": {
      "text/plain": [
       "['matous.holinka', 'gmail.com']"
      ]
     },
     "execution_count": 39,
     "metadata": {},
     "output_type": "execute_result"
    }
   ],
   "source": [
    "'matous.holinka@gmail.com'.split('@')"
   ]
  },
  {
   "cell_type": "code",
   "execution_count": 29,
   "metadata": {},
   "outputs": [
    {
     "data": {
      "text/plain": [
       "'matous holinka'"
      ]
     },
     "execution_count": 29,
     "metadata": {},
     "output_type": "execute_result"
    }
   ],
   "source": [
    "'matous.holinka'.replace('.', ' ')"
   ]
  },
  {
   "cell_type": "code",
   "execution_count": 30,
   "metadata": {},
   "outputs": [
    {
     "data": {
      "text/plain": [
       "'Matous Holinka'"
      ]
     },
     "execution_count": 30,
     "metadata": {},
     "output_type": "execute_result"
    }
   ],
   "source": [
    "'matous holinka'.title()"
   ]
  },
  {
   "cell_type": "code",
   "execution_count": 48,
   "metadata": {},
   "outputs": [
    {
     "name": "stdout",
     "output_type": "stream",
     "text": [
      "['Matouš', 'Lukáš']\n"
     ]
    }
   ],
   "source": [
    "jmena=['Matouš','Lukáš']\n",
    "print(jmena)"
   ]
  },
  {
   "cell_type": "code",
   "execution_count": 50,
   "metadata": {},
   "outputs": [
    {
     "name": "stdout",
     "output_type": "stream",
     "text": [
      "['Matouš', 'Lukáš', 'Petr']\n"
     ]
    }
   ],
   "source": [
    "jmena.append('Petr')\n",
    "print(jmena)"
   ]
  },
  {
   "cell_type": "code",
   "execution_count": 51,
   "metadata": {},
   "outputs": [],
   "source": [
    "jmena.insert(0, 'Marek')"
   ]
  },
  {
   "cell_type": "code",
   "execution_count": 52,
   "metadata": {},
   "outputs": [
    {
     "name": "stdout",
     "output_type": "stream",
     "text": [
      "['Marek', 'Matouš', 'Lukáš', 'Petr']\n"
     ]
    }
   ],
   "source": [
    "print(jmena)"
   ]
  },
  {
   "cell_type": "code",
   "execution_count": null,
   "metadata": {},
   "outputs": [],
   "source": [
    "sklad = { \"notebook\": 5, \"myš\": 10, \"klávesnice\": 7, \"monitor\": 3 }\n",
    "\n",
    "vyprodany_produkt = sklad.pop(\"monitor\", None) # Odstraní \"monitor\" a vrátí jeho množství\n",
    "\n",
    "if vyprodany_produkt is not None:\n",
    "  print(f\"Produkt 'monitor' byl vyprodán a odstraněn ze skladu (množství: {vyprodany_produkt}).\")\n",
    "else:\n",
    "  print(\"Produkt nebyl nalezen ve skladu.\")"
   ]
  },
  {
   "cell_type": "code",
   "execution_count": 60,
   "metadata": {},
   "outputs": [
    {
     "data": {
      "text/plain": [
       "{'jméno': 'Jan',\n",
       " 'příjmení': 'Novák',\n",
       " 'věk': 20,\n",
       " 'obor': 'Informatika',\n",
       " 'kontakt': {'email': 'jan.novak@gmail.com', 'mobil': '+420777666555'}}"
      ]
     },
     "execution_count": 60,
     "metadata": {},
     "output_type": "execute_result"
    }
   ],
   "source": [
    "student={'jméno':'Jan', 'příjmení':'Novák','věk':20}\n",
    "student['obor']='Informatika'\n",
    "student['kontakt']={'email':'jan.novak@gmail.com','mobil':'+420777666555'}\n",
    "\n",
    "student"
   ]
  },
  {
   "cell_type": "code",
   "execution_count": 61,
   "metadata": {},
   "outputs": [],
   "source": [
    "student.get('pohlaví')"
   ]
  },
  {
   "cell_type": "code",
   "execution_count": 62,
   "metadata": {},
   "outputs": [],
   "source": [
    "student.get('kontakt').get('neexistujici.klic')"
   ]
  },
  {
   "cell_type": "code",
   "execution_count": 63,
   "metadata": {},
   "outputs": [
    {
     "name": "stdout",
     "output_type": "stream",
     "text": [
      "dict_keys(['jméno', 'příjmení', 'věk', 'obor', 'kontakt'])\n"
     ]
    }
   ],
   "source": [
    "print(student.keys())"
   ]
  },
  {
   "cell_type": "code",
   "execution_count": null,
   "metadata": {},
   "outputs": [],
   "source": [
    "skupina_1 = [\n",
    "    'h.vybíralová@firma.cz', 'w.štrumlová@firma.cz', 'm.vybíralová@firma.cz',\n",
    "    's.bechyňka@firma.cz', 'z.urbánková@firma.cz', 'l.riečan@firma.cz',\n",
    "    'v.koudelová@firma.cz', 'f.vorlová@firma.cz', 'i.seleš@firma.cz'\n",
    "]\n",
    "\n",
    "\n",
    "skupina_2 = [\n",
    "    'j.šmíd@firma.cz', 'j.procházková@firma.cz', 'l.riečan@firma.cz', 'd.hlavatá@firma.cz', \n",
    "    'm.železný@firma.cz', 'p.niklesová@firma.cz', 'b.skok@firma.cz',\n",
    "]\n",
    "\n",
    "\n",
    "s1 = set(skupina_1)\n",
    "s2 = set(skupina_2)"
   ]
  },
  {
   "cell_type": "code",
   "execution_count": null,
   "metadata": {},
   "outputs": [],
   "source": [
    "cisla=(1,2,3,4,5,6,7,8,9,10,11,12,13,14,15)\n",
    "\n",
    "for number in cisla:\n",
    "    if(number%3==0)and(number%5==0):\n",
    "        print('FizzBuzz')\n",
    "    elif(number%3==0):\n",
    "        print('Fizz')\n",
    "    elif(number%5==0):\n",
    "        print('Buzz')\n",
    "    else:\n",
    "        print(number)"
   ]
  },
  {
   "cell_type": "code",
   "execution_count": null,
   "metadata": {},
   "outputs": [],
   "source": [
    "numbers=range(0,101)\n",
    "\n",
    "for n in numbers:\n",
    "    if(n%3==0)and(n%5==0):\n",
    "        print('FizzBuzz')\n",
    "    elif(n%3==0):\n",
    "        print('Fizz')\n",
    "    elif(n%5==0):\n",
    "        print('Buzz')\n",
    "    else:\n",
    "        print(n)"
   ]
  },
  {
   "cell_type": "code",
   "execution_count": 17,
   "metadata": {},
   "outputs": [
    {
     "name": "stdout",
     "output_type": "stream",
     "text": [
      "jmeno|prijmeni|email|projekt|\n",
      "Matous|Holinka|m.holinka@firma.cz|hr|\n",
      "Petr|Svetr|p.svetr@firma.cz|devops|\n"
     ]
    }
   ],
   "source": [
    "obsah = [\n",
    "    ['jmeno;prijmeni;email;projekt'],\n",
    "    ['Matous;Holinka;m.holinka@firma.cz;hr'],\n",
    "    ['Petr;Svetr;p.svetr@firma.cz;devops']\n",
    "]\n",
    "\n",
    "for radek in obsah:\n",
    "    bunky=radek[0].split(';')\n",
    "    for bunka in bunky:\n",
    "        print(bunka, end='|')\n",
    "    print()"
   ]
  },
  {
   "cell_type": "code",
   "execution_count": 24,
   "metadata": {},
   "outputs": [
    {
     "data": {
      "text/plain": [
       "(10, 9, 8, 7, 6, 5, 4, 3, 2, 1)"
      ]
     },
     "execution_count": 24,
     "metadata": {},
     "output_type": "execute_result"
    }
   ],
   "source": [
    "tuple(range(10,0,-1))\n"
   ]
  },
  {
   "cell_type": "code",
   "execution_count": 23,
   "metadata": {},
   "outputs": [
    {
     "data": {
      "text/plain": [
       "(0, 1, 2, 3, 4, 5, 6, 7, 8, 9)"
      ]
     },
     "execution_count": 23,
     "metadata": {},
     "output_type": "execute_result"
    }
   ],
   "source": [
    "tuple(range(0,10,1))"
   ]
  },
  {
   "cell_type": "code",
   "execution_count": 25,
   "metadata": {},
   "outputs": [
    {
     "data": {
      "text/plain": [
       "(1, 2, 3, 4, 5, 6, 7, 8, 9, 10)"
      ]
     },
     "execution_count": 25,
     "metadata": {},
     "output_type": "execute_result"
    }
   ],
   "source": [
    "cisla[0:10:1]"
   ]
  },
  {
   "cell_type": "code",
   "execution_count": 34,
   "metadata": {},
   "outputs": [
    {
     "data": {
      "text/plain": [
       "(-5, -4, -3, -2, -1, 0, 1, 2, 3, 4)"
      ]
     },
     "execution_count": 34,
     "metadata": {},
     "output_type": "execute_result"
    }
   ],
   "source": [
    "tuple(range(-5,5,1))"
   ]
  },
  {
   "cell_type": "code",
   "execution_count": 35,
   "metadata": {},
   "outputs": [
    {
     "name": "stdout",
     "output_type": "stream",
     "text": [
      "1.1\n",
      "1.2\n",
      "1.3\n",
      "1.4\n",
      "1.5\n",
      "1.6\n",
      "1.7\n",
      "1.8\n",
      "1.9\n",
      "2.0\n"
     ]
    }
   ],
   "source": [
    "for cislo in range(11,21):\n",
    "    print(cislo/10)"
   ]
  },
  {
   "cell_type": "code",
   "execution_count": null,
   "metadata": {},
   "outputs": [],
   "source": [
    "index=0\n",
    "\n",
    "while index<=20 and len(str(index))<=2:\n",
    "    if index<10:\n",
    "        index=index+1\n",
    "    else:\n",
    "        print(index)\n",
    "        index=index+1"
   ]
  },
  {
   "cell_type": "code",
   "execution_count": null,
   "metadata": {},
   "outputs": [],
   "source": [
    "kosik1=list()\n",
    "\n",
    "while len(kosik1)<3:\n",
    "    produkt=input('Zadej typ zboží:')\n",
    "    kosik1.append(produkt)\n",
    "    print('---')\n",
    "\n",
    "print(kosik1)"
   ]
  },
  {
   "cell_type": "code",
   "execution_count": null,
   "metadata": {},
   "outputs": [],
   "source": [
    "kosik=[]\n",
    "\n",
    "while True:\n",
    "    produkt=input('Zadej typ zboží:')\n",
    "    if produkt.lower()=='hotovo':\n",
    "        break\n",
    "    kosik.append(produkt)\n",
    "    print('---')\n",
    "\n",
    "print(kosik)"
   ]
  },
  {
   "cell_type": "code",
   "execution_count": null,
   "metadata": {},
   "outputs": [],
   "source": [
    "kosik=[]\n",
    "\n",
    "while (produkt:=input('Zadej položku:').lower())!='hotovo':\n",
    "    kosik.append(produkt)\n",
    "    print('---')\n",
    "\n",
    "print('Konečný obsah košíku:',kosik)"
   ]
  },
  {
   "cell_type": "code",
   "execution_count": 102,
   "metadata": {},
   "outputs": [],
   "source": [
    "x=2"
   ]
  },
  {
   "cell_type": "code",
   "execution_count": 103,
   "metadata": {},
   "outputs": [],
   "source": [
    "x**=2"
   ]
  },
  {
   "cell_type": "code",
   "execution_count": null,
   "metadata": {},
   "outputs": [],
   "source": [
    "print(x)\n",
    "x**=2"
   ]
  },
  {
   "cell_type": "code",
   "execution_count": null,
   "metadata": {},
   "outputs": [
    {
     "name": "stdout",
     "output_type": "stream",
     "text": [
      "range(0, 20)\n"
     ]
    }
   ],
   "source": []
  }
 ],
 "metadata": {
  "kernelspec": {
   "display_name": "Python 3",
   "language": "python",
   "name": "python3"
  },
  "language_info": {
   "codemirror_mode": {
    "name": "ipython",
    "version": 3
   },
   "file_extension": ".py",
   "mimetype": "text/x-python",
   "name": "python",
   "nbconvert_exporter": "python",
   "pygments_lexer": "ipython3",
   "version": "3.13.1"
  }
 },
 "nbformat": 4,
 "nbformat_minor": 2
}
